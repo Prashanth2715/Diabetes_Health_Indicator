{
 "cells": [
  {
   "cell_type": "code",
   "execution_count": 36,
   "id": "05b84d88-8451-4311-a054-6a193e011716",
   "metadata": {},
   "outputs": [
    {
     "name": "stdout",
     "output_type": "stream",
     "text": [
      "Index(['Diabetes_012', 'HighBP', 'HighChol', 'CholCheck', 'BMI', 'Smoker',\n",
      "       'Stroke', 'HeartDiseaseorAttack', 'PhysActivity', 'Fruits', 'Veggies',\n",
      "       'HvyAlcoholConsump', 'AnyHealthcare', 'NoDocbcCost', 'GenHlth',\n",
      "       'MentHlth', 'PhysHlth', 'DiffWalk', 'Sex', 'Age', 'Education',\n",
      "       'Income'],\n",
      "      dtype='object')\n"
     ]
    }
   ],
   "source": [
    "import pandas as pd\n",
    "df = pd.read_csv(\"D://Datasets//diabetes_012_health_indicators_BRFSS2015.csv\")\n",
    "print(df.columns)"
   ]
  },
  {
   "cell_type": "code",
   "execution_count": 28,
   "id": "612c58ba-616a-489f-aace-fff29fa7a9d5",
   "metadata": {},
   "outputs": [],
   "source": [
    "acceptable_ranges = {\n",
    "    'BMI': (0, 100),\n",
    "    'GenHlth': (1, 5),\n",
    "    'MentHlth': (0, 30),\n",
    "    'PhysHlth': (0, 30),\n",
    "    'Age': (1, 13),\n",
    "    'Education': (1, 6),\n",
    "    'Income': (1, 8)\n",
    "}"
   ]
  },
  {
   "cell_type": "code",
   "execution_count": 30,
   "id": "25b290df-c7c6-4d5d-94f6-b9e240da91a3",
   "metadata": {},
   "outputs": [
    {
     "name": "stdout",
     "output_type": "stream",
     "text": [
      "no out of range values for BMI\n",
      "\n",
      "no out of range values for GenHlth\n",
      "\n",
      "no out of range values for MentHlth\n",
      "\n",
      "no out of range values for PhysHlth\n",
      "\n",
      "no out of range values for Age\n",
      "\n",
      "no out of range values for Education\n",
      "\n",
      "no out of range values for Income\n",
      "\n"
     ]
    }
   ],
   "source": [
    "def checkoutofrange(df,column,range_tuple):\n",
    "    low,high=range_tuple\n",
    "    out_of_range=df[(df[column]<low) | (df[column]>high)]\n",
    "    return out_of_range\n",
    "\n",
    "out_of_range_summary={}\n",
    "\n",
    "for column,range_tuple in acceptable_ranges.items():\n",
    "    out_range_value=checkoutofrange(df,column,range_tuple)\n",
    "    out_of_range_summary[column]=out_range_value\n",
    "\n",
    "for column,out_range_value in out_of_range_summary.items():\n",
    "    if not out_range_value.empty:\n",
    "        print(f\"out of range values for {column}\\n\", out_range_value)\n",
    "    else:\n",
    "        print(f\"no out of range values for {column}\\n\")\n",
    "\n"
   ]
  },
  {
   "cell_type": "code",
   "execution_count": 38,
   "id": "22028d54-9cec-4cbc-976c-b039e580c28d",
   "metadata": {},
   "outputs": [],
   "source": [
    "import sqlite3\n",
    "\n",
    "connection=sqlite3.connect(\"healthcare_data.db\")\n",
    "cursor=connection.cursor()\n",
    "\n",
    "cursor.execute('''create table if not exists patients(\n",
    "\n",
    "Diabetes_012 int primary key, \n",
    "HighBP int,\n",
    "HighChol int, \n",
    "CholCheck int, \n",
    "BMI int, \n",
    "Smoker int,\n",
    "Stroke int, \n",
    "HeartDiseaseorAttack int, \n",
    "PhysActivity int, \n",
    "Fruits int, \n",
    "Veggies int,\n",
    "HvyAlcoholConsump int, \n",
    "AnyHealthcare int, \n",
    "NoDocbcCost int, \n",
    "GenHlth int,\n",
    "MentHlth int, \n",
    "PhysHlth int, \n",
    "DiffWalk int, \n",
    "Sex int, \n",
    "Age int, \n",
    "Education int,\n",
    "Income int)''')\n",
    "\n",
    "connection.commit()"
   ]
  },
  {
   "cell_type": "code",
   "execution_count": 42,
   "id": "b23a4ab5-b0c0-4403-a228-220ce9f83c0b",
   "metadata": {},
   "outputs": [
    {
     "data": {
      "text/plain": [
       "253680"
      ]
     },
     "execution_count": 42,
     "metadata": {},
     "output_type": "execute_result"
    }
   ],
   "source": [
    "df.to_sql('patients',connection,if_exists='replace',index=False)"
   ]
  },
  {
   "cell_type": "code",
   "execution_count": null,
   "id": "92adeb0f-e7f4-4633-8f17-6d78418479ec",
   "metadata": {},
   "outputs": [],
   "source": []
  }
 ],
 "metadata": {
  "kernelspec": {
   "display_name": "Python 3 (ipykernel)",
   "language": "python",
   "name": "python3"
  },
  "language_info": {
   "codemirror_mode": {
    "name": "ipython",
    "version": 3
   },
   "file_extension": ".py",
   "mimetype": "text/x-python",
   "name": "python",
   "nbconvert_exporter": "python",
   "pygments_lexer": "ipython3",
   "version": "3.12.4"
  }
 },
 "nbformat": 4,
 "nbformat_minor": 5
}
